{
  "nbformat": 4,
  "nbformat_minor": 0,
  "metadata": {
    "colab": {
      "name": "Untitled0.ipynb",
      "version": "0.3.2",
      "provenance": [],
      "include_colab_link": true
    },
    "kernelspec": {
      "name": "python3",
      "display_name": "Python 3"
    }
  },
  "cells": [
    {
      "cell_type": "markdown",
      "metadata": {
        "id": "view-in-github",
        "colab_type": "text"
      },
      "source": [
        "<a href=\"https://colab.research.google.com/github/DownB/boracay/blob/master/First_test.ipynb\" target=\"_parent\"><img src=\"https://colab.research.google.com/assets/colab-badge.svg\" alt=\"Open In Colab\"/></a>"
      ]
    },
    {
      "metadata": {
        "id": "J4dbim-2gwn_",
        "colab_type": "code",
        "outputId": "97164507-c972-4ab4-9190-634f823535a0",
        "colab": {
          "base_uri": "https://localhost:8080/",
          "height": 34
        }
      },
      "cell_type": "code",
      "source": [
        "\n",
        "def min_abs(L):\n",
        "    l = len(L)\n",
        "    s = int(l*(l+1)/2)\n",
        "    S = [None]*s\n",
        "    k = 0\n",
        "    \n",
        "    for i in range(0,l):\n",
        "        for j in range(i,l):\n",
        "            if i == j :\n",
        "                S[k] = L[i]\n",
        "            else :\n",
        "                S[k] = sum(L[i:j])\n",
        "            S[k] = abs(S[k])\n",
        "            k = k+1\n",
        "\n",
        "    return min(S)\n",
        " \n",
        "\n",
        "\n",
        "def test_min_abs():\n",
        "    thislist = [2,-4,6,-3,9] \n",
        "    res = min_abs(thislist)\n",
        "    if (res != 1):\n",
        "        return \"erreur\"\n",
        "    else :\n",
        "        return(\"ok\")\n",
        "   \n",
        "        \n",
        "print(test_min_abs())\n"
      ],
      "execution_count": 0,
      "outputs": [
        {
          "output_type": "stream",
          "text": [
            "ok\n"
          ],
          "name": "stdout"
        }
      ]
    }
  ]
}